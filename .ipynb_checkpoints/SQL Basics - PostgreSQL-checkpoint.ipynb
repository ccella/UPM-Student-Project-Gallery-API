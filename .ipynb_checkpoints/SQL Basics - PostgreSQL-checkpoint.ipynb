{
 "cells": [
  {
   "cell_type": "markdown",
   "metadata": {},
   "source": [
    "## SQL Basics"
   ]
  },
  {
   "cell_type": "markdown",
   "metadata": {},
   "source": [
    "### After Installing PostgreSQL\n",
    "sudo -u postgres psql upm_test"
   ]
  },
  {
   "cell_type": "markdown",
   "metadata": {},
   "source": [
    "### Let's run some DDL Commands \n",
    "##### create a database named 'upm_test'\n",
    "CREATE DATABASE upm_test;\n",
    "##### create a user named 'upm_dev' with password 'root'\n",
    "CREATE USER upm_dev with encrypted password 'root';"
   ]
  },
  {
   "cell_type": "markdown",
   "metadata": {},
   "source": [
    "### Let's run some DCL Commands\n",
    "##### grants all priveleges to user 'upm_dev' on the database 'upm_test'\n",
    "GRANT ALL PRIVILEGES ON DATABASE upm_test TO upm_dev;\n",
    "##### grants the user create credentials for 'upm_dev'\n",
    "ALTER USER upm_dev CREATEDB;"
   ]
  },
  {
   "cell_type": "code",
   "execution_count": 1,
   "metadata": {},
   "outputs": [
    {
     "name": "stdout",
     "output_type": "stream",
     "text": [
      "Connection: <class 'psycopg2.extensions.connection'>\n"
     ]
    }
   ],
   "source": [
    "from psycopg2 import connect\n",
    "from pprint import pprint\n",
    "\n",
    "# connect to the database you created \n",
    "conn = connect(\n",
    "    dbname = \"d1fs4l5k60v3td\",\n",
    "    user = \"inwnbfbkowlchh\",\n",
    "    host = \"ec2-54-166-251-173.compute-1.amazonaws.com\",\n",
    "    password = \"e025c84a2a222a98ac9edc6bdd3e547cf2e4144860124c047697cda423a28a03\"\n",
    ")\n",
    "print('Connection: {}'.format(type(conn)))"
   ]
  },
  {
   "cell_type": "code",
   "execution_count": 2,
   "metadata": {},
   "outputs": [],
   "source": [
    "#instantiate a cursor object from the connection\n",
    "cursor = conn.cursor()\n",
    "\n",
    "# use the execute() command to execute SQL commands\n",
    "# create a schema called `upm\n",
    "cursor.execute('CREATE SCHEMA upm')"
   ]
  },
  {
   "cell_type": "code",
   "execution_count": 3,
   "metadata": {},
   "outputs": [],
   "source": [
    "# In this block we created a table 'students' under the schema 'upm'\n",
    "# The table has of course, attributes of varying types\n",
    "\n",
    "# The 'id' field is our primary key with a constraint that requires it to have a value\n",
    "# We can also set a default value as seen in the 'created_at' field\n",
    "\n",
    "sql_command = '''\n",
    "    CREATE TABLE IF NOT EXISTS upm.students (\n",
    "        id SERIAL NOT NULL PRIMARY KEY,\n",
    "        first_name VARCHAR(64) NOT NULL,\n",
    "        last_name VARCHAR(64) NOT NULL,\n",
    "        age INTEGER NOT NULL,\n",
    "        is_male BOOLEAN NOT NULL,\n",
    "        upm_start_date TIMESTAMPTZ NOT NULL,\n",
    "        created_at TIMESTAMP DEFAULT CURRENT_TIMESTAMP NOT NULL\n",
    "    );\n",
    "'''\n",
    "cursor.execute(sql_command)"
   ]
  },
  {
   "cell_type": "code",
   "execution_count": 4,
   "metadata": {},
   "outputs": [],
   "source": [
    "# sample for inserting one entry to table\n",
    "\n",
    "sql_command = '''\n",
    "    INSERT INTO upm.students\n",
    "    (first_name, last_name, age, is_male, upm_start_date)\n",
    "    VALUES\n",
    "    ('Andrei Mikail', 'Macatangay', 22, True, '2013-08-01');\n",
    "'''\n",
    "cursor.execute(sql_command)"
   ]
  },
  {
   "cell_type": "code",
   "execution_count": 9,
   "metadata": {},
   "outputs": [
    {
     "name": "stdout",
     "output_type": "stream",
     "text": [
      "[(2,\n",
      "  'Joey Andrea',\n",
      "  'Cruz',\n",
      "  23,\n",
      "  True,\n",
      "  datetime.datetime(2013, 8, 1, 0, 0, tzinfo=psycopg2.tz.FixedOffsetTimezone(offset=0, name=None)),\n",
      "  datetime.datetime(2020, 10, 3, 1, 20, 3, 214439)),\n",
      " (3,\n",
      "  'Berwin Jarrett',\n",
      "  'Yu',\n",
      "  24,\n",
      "  True,\n",
      "  datetime.datetime(2013, 8, 1, 0, 0, tzinfo=psycopg2.tz.FixedOffsetTimezone(offset=0, name=None)),\n",
      "  datetime.datetime(2020, 10, 3, 1, 20, 3, 214439)),\n",
      " (4,\n",
      "  'Francis',\n",
      "  'Cabalo',\n",
      "  24,\n",
      "  True,\n",
      "  datetime.datetime(2013, 8, 1, 0, 0, tzinfo=psycopg2.tz.FixedOffsetTimezone(offset=0, name=None)),\n",
      "  datetime.datetime(2020, 10, 3, 1, 20, 3, 214439)),\n",
      " (5,\n",
      "  'Reuben Joseph',\n",
      "  'Cabrera',\n",
      "  24,\n",
      "  True,\n",
      "  datetime.datetime(2013, 8, 1, 0, 0, tzinfo=psycopg2.tz.FixedOffsetTimezone(offset=0, name=None)),\n",
      "  datetime.datetime(2020, 10, 3, 1, 20, 3, 214439)),\n",
      " (6,\n",
      "  'Andrei Mikail',\n",
      "  'Macatangay',\n",
      "  22,\n",
      "  True,\n",
      "  datetime.datetime(2013, 8, 1, 0, 0, tzinfo=psycopg2.tz.FixedOffsetTimezone(offset=0, name=None)),\n",
      "  datetime.datetime(2020, 10, 3, 1, 20, 3, 214439))]\n"
     ]
    }
   ],
   "source": [
    "# sample for selecting all rows in the table\n",
    "\n",
    "sql_command = '''\n",
    "    SELECT * from upm.students;\n",
    "'''\n",
    "cursor.execute(sql_command)\n",
    "pprint(cursor.fetchall())"
   ]
  },
  {
   "cell_type": "code",
   "execution_count": 6,
   "metadata": {},
   "outputs": [],
   "source": [
    "# sample for deleting without any filters\n",
    "\n",
    "sql_command = '''\n",
    "    DELETE from upm.students;\n",
    "'''\n",
    "cursor.execute(sql_command)"
   ]
  },
  {
   "cell_type": "code",
   "execution_count": 8,
   "metadata": {},
   "outputs": [],
   "source": [
    "# sample for insert of multiple entries to table\n",
    "\n",
    "sql_command = '''\n",
    "    INSERT INTO upm.students\n",
    "    (first_name, last_name, age, is_male, upm_start_date)\n",
    "    VALUES\n",
    "    ('Joey Andrea', 'Cruz', 23, True, '2013-08-01'),\n",
    "    ('Berwin Jarrett', 'Yu', 24, True, '2013-08-01'),\n",
    "    ('Francis', 'Cabalo', 24, True, '2013-08-01'),\n",
    "    ('Reuben Joseph', 'Cabrera', 24, True, '2013-08-01'),\n",
    "    ('Andrei Mikail', 'Macatangay', 22, True, '2013-08-01');\n",
    "'''\n",
    "cursor.execute(sql_command)"
   ]
  },
  {
   "cell_type": "code",
   "execution_count": 10,
   "metadata": {},
   "outputs": [
    {
     "name": "stdout",
     "output_type": "stream",
     "text": [
      "[(2,\n",
      "  'Joey Andrea',\n",
      "  'Cruz',\n",
      "  23,\n",
      "  False,\n",
      "  datetime.datetime(2013, 8, 1, 0, 0, tzinfo=psycopg2.tz.FixedOffsetTimezone(offset=0, name=None)),\n",
      "  datetime.datetime(2020, 10, 3, 1, 20, 3, 214439))]\n"
     ]
    }
   ],
   "source": [
    "# Oh no, Ma'am Joey isn't male we have to fix this\n",
    "# Use the update command to modify an existing row/record\n",
    "\n",
    "sql_command = '''\n",
    "    SELECT id from upm.students\n",
    "    WHERE first_name = 'Joey Andrea'\n",
    "    AND last_name = 'Cruz';\n",
    "'''\n",
    "cursor.execute(sql_command)\n",
    "student_id = cursor.fetchone()[0]\n",
    "\n",
    "sql_command = '''\n",
    "    UPDATE upm.students\n",
    "    SET is_male = False\n",
    "    WHERE id = {student_id};\n",
    "'''.format(student_id=student_id)\n",
    "cursor.execute(sql_command)\n",
    "\n",
    "sql_command = '''\n",
    "    SELECT * from upm.students\n",
    "    WHERE id = {student_id};\n",
    "'''.format(student_id=student_id)\n",
    "cursor.execute(sql_command)\n",
    "pprint(cursor.fetchall())"
   ]
  },
  {
   "cell_type": "code",
   "execution_count": 11,
   "metadata": {
    "scrolled": true
   },
   "outputs": [],
   "source": [
    "# start a transaction\n",
    "\n",
    "sql_command = '''\n",
    "    BEGIN;\n",
    "    SAVEPOINT svp;\n",
    "    TRUNCATE TABLE upm.students;\n",
    "    SELECT * FROM upm.students;\n",
    "    ROLLBACK TO svp;\n",
    "    COMMIT;\n",
    "'''\n",
    "cursor.execute(sql_command)"
   ]
  },
  {
   "cell_type": "code",
   "execution_count": 12,
   "metadata": {},
   "outputs": [],
   "source": [
    "# it's always a good practice to close the opened connection at the end \n",
    "# so it doesn't become a zombie process that the database has to clean by itself\n",
    "\n",
    "cursor.close()\n",
    "conn.close()"
   ]
  },
  {
   "cell_type": "code",
   "execution_count": null,
   "metadata": {},
   "outputs": [],
   "source": []
  }
 ],
 "metadata": {
  "kernelspec": {
   "display_name": "Python 3",
   "language": "python",
   "name": "python3"
  },
  "language_info": {
   "codemirror_mode": {
    "name": "ipython",
    "version": 3
   },
   "file_extension": ".py",
   "mimetype": "text/x-python",
   "name": "python",
   "nbconvert_exporter": "python",
   "pygments_lexer": "ipython3",
   "version": "3.8.3"
  }
 },
 "nbformat": 4,
 "nbformat_minor": 4
}
